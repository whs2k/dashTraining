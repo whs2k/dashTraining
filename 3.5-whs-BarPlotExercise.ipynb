{
 "cells": [
  {
   "cell_type": "code",
   "execution_count": 1,
   "metadata": {},
   "outputs": [],
   "source": [
    "import plotly.offline as pyo\n",
    "import plotly.graph_objs as go\n",
    "import pandas as pd\n",
    "import os"
   ]
  },
  {
   "cell_type": "code",
   "execution_count": 8,
   "metadata": {},
   "outputs": [
    {
     "data": {
      "text/html": [
       "<div>\n",
       "<style scoped>\n",
       "    .dataframe tbody tr th:only-of-type {\n",
       "        vertical-align: middle;\n",
       "    }\n",
       "\n",
       "    .dataframe tbody tr th {\n",
       "        vertical-align: top;\n",
       "    }\n",
       "\n",
       "    .dataframe thead th {\n",
       "        text-align: right;\n",
       "    }\n",
       "</style>\n",
       "<table border=\"1\" class=\"dataframe\">\n",
       "  <thead>\n",
       "    <tr style=\"text-align: right;\">\n",
       "      <th></th>\n",
       "      <th>Unnamed: 0</th>\n",
       "      <th>Strongly Agree</th>\n",
       "      <th>Somewhat Agree</th>\n",
       "      <th>Neutral</th>\n",
       "      <th>Somewhat Disagree</th>\n",
       "      <th>Strongly Disagree</th>\n",
       "    </tr>\n",
       "  </thead>\n",
       "  <tbody>\n",
       "    <tr>\n",
       "      <th>0</th>\n",
       "      <td>Question 1</td>\n",
       "      <td>0.45</td>\n",
       "      <td>0.25</td>\n",
       "      <td>0.10</td>\n",
       "      <td>0.12</td>\n",
       "      <td>0.08</td>\n",
       "    </tr>\n",
       "    <tr>\n",
       "      <th>1</th>\n",
       "      <td>Question 2</td>\n",
       "      <td>0.12</td>\n",
       "      <td>0.07</td>\n",
       "      <td>0.48</td>\n",
       "      <td>0.18</td>\n",
       "      <td>0.15</td>\n",
       "    </tr>\n",
       "    <tr>\n",
       "      <th>2</th>\n",
       "      <td>Question 3</td>\n",
       "      <td>0.05</td>\n",
       "      <td>0.22</td>\n",
       "      <td>0.19</td>\n",
       "      <td>0.23</td>\n",
       "      <td>0.31</td>\n",
       "    </tr>\n",
       "  </tbody>\n",
       "</table>\n",
       "</div>"
      ],
      "text/plain": [
       "   Unnamed: 0  Strongly Agree  Somewhat Agree  Neutral  Somewhat Disagree  \\\n",
       "0  Question 1            0.45            0.25     0.10               0.12   \n",
       "1  Question 2            0.12            0.07     0.48               0.18   \n",
       "2  Question 3            0.05            0.22     0.19               0.23   \n",
       "\n",
       "   Strongly Disagree  \n",
       "0               0.08  \n",
       "1               0.15  \n",
       "2               0.31  "
      ]
     },
     "execution_count": 8,
     "metadata": {},
     "output_type": "execute_result"
    }
   ],
   "source": [
    "#Creat DataFrame\n",
    "df = pd.read_csv(os.path.join(os.getcwd(),'data','mocksurvey.csv'))\n",
    "#df.set_index(df['Unnamed: 0']).head()\n",
    "df.head()"
   ]
  },
  {
   "cell_type": "code",
   "execution_count": 23,
   "metadata": {},
   "outputs": [
    {
     "name": "stdout",
     "output_type": "stream",
     "text": [
      "[{'type': 'bar', 'x': array(['Question 1', 'Question 2', 'Question 3'], dtype=object), 'y': [0.45, 0.12, 0.05]}, {'type': 'bar', 'x': array(['Question 1', 'Question 2', 'Question 3'], dtype=object), 'y': [0.25, 0.07, 0.22]}, {'type': 'bar', 'x': array(['Question 1', 'Question 2', 'Question 3'], dtype=object), 'y': [0.1, 0.48, 0.19]}, {'type': 'bar', 'x': array(['Question 1', 'Question 2', 'Question 3'], dtype=object), 'y': [0.12, 0.18, 0.23]}, {'type': 'bar', 'x': array(['Question 1', 'Question 2', 'Question 3'], dtype=object), 'y': [0.08, 0.15, 0.31]}]\n"
     ]
    }
   ],
   "source": [
    "'''\n",
    "Create Traces and Load Up Data\n",
    "X Values = 3 Questions\n",
    "Y valeus = 5 Features\n",
    "'''\n",
    "x_values = df['Unnamed: 0'].unique()\n",
    "\n",
    "cols = list(df.columns.values)[1:]\n",
    "\n",
    "data = []\n",
    "for col in cols:\n",
    "    y_values = df[col].values.tolist()\n",
    "    trace = go.Bar(x=x_values, y=y_values,)\n",
    "    data.append(trace)\n"
   ]
  },
  {
   "cell_type": "code",
   "execution_count": 24,
   "metadata": {},
   "outputs": [
    {
     "data": {
      "text/plain": [
       "'file:///Users/wsolomon/Documents/GitHub/DashTraining/temp-plot.html'"
      ]
     },
     "execution_count": 24,
     "metadata": {},
     "output_type": "execute_result"
    }
   ],
   "source": [
    "'''\n",
    "Create our Layout and Fig and PLot\n",
    "'''\n",
    "\n",
    "layout = go.Layout(title=\"Survey Yo'\",\n",
    "                  xaxis=dict(title='Question Foo'),\n",
    "                  yaxis=dict(title='Responses'))\n",
    "\n",
    "fig = go.Figure(layout=layout, data=data)\n",
    "\n",
    "pyo.plot(fig)"
   ]
  },
  {
   "cell_type": "code",
   "execution_count": 26,
   "metadata": {},
   "outputs": [
    {
     "data": {
      "text/plain": [
       "'file:///Users/wsolomon/Documents/GitHub/DashTraining/temp-plot.html'"
      ]
     },
     "execution_count": 26,
     "metadata": {},
     "output_type": "execute_result"
    }
   ],
   "source": [
    "'''\n",
    "Now let's stack it\n",
    "'''\n",
    "layout = go.Layout(title=\"Survey Yo'\",\n",
    "                  xaxis=dict(title='Question Foo'),\n",
    "                  yaxis=dict(title='Responses'),\n",
    "                  barmode='stack')\n",
    "\n",
    "fig = go.Figure(layout=layout, data=data)\n",
    "\n",
    "pyo.plot(fig)"
   ]
  },
  {
   "cell_type": "code",
   "execution_count": 28,
   "metadata": {},
   "outputs": [
    {
     "data": {
      "text/plain": [
       "'file:///Users/wsolomon/Documents/GitHub/DashTraining/temp-plot.html'"
      ]
     },
     "execution_count": 28,
     "metadata": {},
     "output_type": "execute_result"
    }
   ],
   "source": [
    "'''\n",
    "Not Dont yet! Gotta Change That John Legend\n",
    "'''\n",
    "data = []\n",
    "for col in cols:\n",
    "    y_values = df[col].values.tolist()\n",
    "    trace = go.Bar(x=x_values, y=y_values,name=col)\n",
    "    data.append(trace)\n",
    "\n",
    "layout = go.Layout(title=\"Survey Yo'\", \n",
    "                  xaxis=dict(title='Question Foo'),\n",
    "                  yaxis=dict(title='Responses'),\n",
    "                  barmode='stack')\n",
    "\n",
    "fig = go.Figure(layout=layout, data=data)\n",
    "\n",
    "pyo.plot(fig)\n"
   ]
  },
  {
   "cell_type": "code",
   "execution_count": null,
   "metadata": {},
   "outputs": [],
   "source": []
  }
 ],
 "metadata": {
  "kernelspec": {
   "display_name": "Python 3",
   "language": "python",
   "name": "python3"
  },
  "language_info": {
   "codemirror_mode": {
    "name": "ipython",
    "version": 3
   },
   "file_extension": ".py",
   "mimetype": "text/x-python",
   "name": "python",
   "nbconvert_exporter": "python",
   "pygments_lexer": "ipython3",
   "version": "3.6.4"
  }
 },
 "nbformat": 4,
 "nbformat_minor": 2
}
