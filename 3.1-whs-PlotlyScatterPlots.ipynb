{
 "cells": [
  {
   "cell_type": "code",
   "execution_count": 2,
   "metadata": {},
   "outputs": [],
   "source": [
    "import numpy as np\n",
    "import plotly.offline as pyo\n",
    "import plotly.graph_objs as go"
   ]
  },
  {
   "cell_type": "markdown",
   "metadata": {},
   "source": [
    "Process:\n",
    "1. Create Random Data\n",
    "2. Create Plotly PLot\n",
    "3. Create New Plot with Modified Markers"
   ]
  },
  {
   "cell_type": "code",
   "execution_count": 3,
   "metadata": {},
   "outputs": [],
   "source": [
    "#Create random data\n",
    "np.random.seed(42)\n",
    "random_x = np.random.randint(1,101,100)\n",
    "random_y = np.random.randint(1,101,100)"
   ]
  },
  {
   "cell_type": "code",
   "execution_count": 6,
   "metadata": {},
   "outputs": [
    {
     "data": {
      "text/plain": [
       "'file:///Users/wsolomon/Documents/GitHub/DashTraining/scatter.html'"
      ]
     },
     "execution_count": 6,
     "metadata": {},
     "output_type": "execute_result"
    }
   ],
   "source": [
    "'''\n",
    "Plotly Syntax:\n",
    "- Stick plots inside a variable called 'Data'\n",
    "- Then pass this data into a plot call\n",
    "- Its wierd because we're esting of a plot inside of a list into a plot call\n",
    "'''\n",
    "\n",
    "#Create Data List\n",
    "data = [go.Scatter(x=random_x, y=random_y, mode='markers')]\n",
    "\n",
    "#Create Layout for styyling\n",
    "layout = go.Layout(title='Hello World Plot',\n",
    "                  xaxis = {'title':'MY X AXIS'},\n",
    "                  yaxis = dict(title='MY Y AXIS'),\n",
    "                  hovermode='closest')\n",
    "\n",
    "#Create a fig\n",
    "fig = go.Figure(data=data, layout=layout)\n",
    "\n",
    "#Run it\n",
    "pyo.plot(fig, filename='scatter.html')"
   ]
  },
  {
   "cell_type": "code",
   "execution_count": 7,
   "metadata": {},
   "outputs": [
    {
     "data": {
      "text/plain": [
       "'file:///Users/wsolomon/Documents/GitHub/DashTraining/scatter.html'"
      ]
     },
     "execution_count": 7,
     "metadata": {},
     "output_type": "execute_result"
    }
   ],
   "source": [
    "'''\n",
    "Now Let's change the size of markers\n",
    "'''\n",
    "\n",
    "#Create Data List\n",
    "data = [go.Scatter(x=random_x, \n",
    "                   y=random_y, \n",
    "                   mode='markers',\n",
    "                   marker=dict(\n",
    "                       color = 'rgb(51,204,153)',\n",
    "                       line = {'width': 2},\n",
    "                       size = 20,\n",
    "                       symbol = 'pentagon'\n",
    "                   ))]\n",
    "\n",
    "#Create Layout for styyling\n",
    "layout = go.Layout(title='Hello World Plot',\n",
    "                  xaxis = {'title':'MY X AXIS'},\n",
    "                  yaxis = dict(title='MY Y AXIS'),\n",
    "                  hovermode='closest')\n",
    "\n",
    "#Create a fig\n",
    "fig = go.Figure(data=data, layout=layout)\n",
    "\n",
    "#Run it\n",
    "pyo.plot(fig, filename='scatter.html')"
   ]
  },
  {
   "cell_type": "code",
   "execution_count": null,
   "metadata": {},
   "outputs": [],
   "source": []
  },
  {
   "cell_type": "code",
   "execution_count": null,
   "metadata": {},
   "outputs": [],
   "source": []
  }
 ],
 "metadata": {
  "kernelspec": {
   "display_name": "Python 2",
   "language": "python",
   "name": "python2"
  },
  "language_info": {
   "codemirror_mode": {
    "name": "ipython",
    "version": 2
   },
   "file_extension": ".py",
   "mimetype": "text/x-python",
   "name": "python",
   "nbconvert_exporter": "python",
   "pygments_lexer": "ipython2",
   "version": "2.7.14"
  }
 },
 "nbformat": 4,
 "nbformat_minor": 2
}
