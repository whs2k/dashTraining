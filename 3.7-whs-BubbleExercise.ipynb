{
 "cells": [
  {
   "cell_type": "code",
   "execution_count": 1,
   "metadata": {},
   "outputs": [
    {
     "ename": "ConnectionError",
     "evalue": "HTTPSConnectionPool(host='raw.githubusercontent.com', port=443): Max retries exceeded with url: /washingtonpost/data-school-shootings/master/school-shootings-data.csv (Caused by NewConnectionError('<urllib3.connection.VerifiedHTTPSConnection object at 0x11b52ee90>: Failed to establish a new connection: [Errno 8] nodename nor servname provided, or not known',))",
     "output_type": "error",
     "traceback": [
      "\u001b[0;31m---------------------------------------------------------------------------\u001b[0m",
      "\u001b[0;31mConnectionError\u001b[0m                           Traceback (most recent call last)",
      "\u001b[0;32m<ipython-input-1-0c115714a5ee>\u001b[0m in \u001b[0;36m<module>\u001b[0;34m()\u001b[0m\n\u001b[1;32m     15\u001b[0m \u001b[0;34m\u001b[0m\u001b[0m\n\u001b[1;32m     16\u001b[0m \u001b[0murl\u001b[0m \u001b[0;34m=\u001b[0m \u001b[0;34m'https://raw.githubusercontent.com/washingtonpost/data-school-shootings/master/school-shootings-data.csv'\u001b[0m\u001b[0;34m\u001b[0m\u001b[0m\n\u001b[0;32m---> 17\u001b[0;31m \u001b[0mdata\u001b[0m \u001b[0;34m=\u001b[0m \u001b[0mrequests\u001b[0m\u001b[0;34m.\u001b[0m\u001b[0mget\u001b[0m\u001b[0;34m(\u001b[0m\u001b[0murl\u001b[0m\u001b[0;34m)\u001b[0m\u001b[0;34m\u001b[0m\u001b[0m\n\u001b[0m\u001b[1;32m     18\u001b[0m '''Lame way:\n\u001b[1;32m     19\u001b[0m \u001b[0;34m\u001b[0m\u001b[0m\n",
      "\u001b[0;32m/Users/wsolomon/anaconda3/lib/python2.7/site-packages/requests/api.pyc\u001b[0m in \u001b[0;36mget\u001b[0;34m(url, params, **kwargs)\u001b[0m\n\u001b[1;32m     70\u001b[0m \u001b[0;34m\u001b[0m\u001b[0m\n\u001b[1;32m     71\u001b[0m     \u001b[0mkwargs\u001b[0m\u001b[0;34m.\u001b[0m\u001b[0msetdefault\u001b[0m\u001b[0;34m(\u001b[0m\u001b[0;34m'allow_redirects'\u001b[0m\u001b[0;34m,\u001b[0m \u001b[0mTrue\u001b[0m\u001b[0;34m)\u001b[0m\u001b[0;34m\u001b[0m\u001b[0m\n\u001b[0;32m---> 72\u001b[0;31m     \u001b[0;32mreturn\u001b[0m \u001b[0mrequest\u001b[0m\u001b[0;34m(\u001b[0m\u001b[0;34m'get'\u001b[0m\u001b[0;34m,\u001b[0m \u001b[0murl\u001b[0m\u001b[0;34m,\u001b[0m \u001b[0mparams\u001b[0m\u001b[0;34m=\u001b[0m\u001b[0mparams\u001b[0m\u001b[0;34m,\u001b[0m \u001b[0;34m**\u001b[0m\u001b[0mkwargs\u001b[0m\u001b[0;34m)\u001b[0m\u001b[0;34m\u001b[0m\u001b[0m\n\u001b[0m\u001b[1;32m     73\u001b[0m \u001b[0;34m\u001b[0m\u001b[0m\n\u001b[1;32m     74\u001b[0m \u001b[0;34m\u001b[0m\u001b[0m\n",
      "\u001b[0;32m/Users/wsolomon/anaconda3/lib/python2.7/site-packages/requests/api.pyc\u001b[0m in \u001b[0;36mrequest\u001b[0;34m(method, url, **kwargs)\u001b[0m\n\u001b[1;32m     56\u001b[0m     \u001b[0;31m# cases, and look like a memory leak in others.\u001b[0m\u001b[0;34m\u001b[0m\u001b[0;34m\u001b[0m\u001b[0m\n\u001b[1;32m     57\u001b[0m     \u001b[0;32mwith\u001b[0m \u001b[0msessions\u001b[0m\u001b[0;34m.\u001b[0m\u001b[0mSession\u001b[0m\u001b[0;34m(\u001b[0m\u001b[0;34m)\u001b[0m \u001b[0;32mas\u001b[0m \u001b[0msession\u001b[0m\u001b[0;34m:\u001b[0m\u001b[0;34m\u001b[0m\u001b[0m\n\u001b[0;32m---> 58\u001b[0;31m         \u001b[0;32mreturn\u001b[0m \u001b[0msession\u001b[0m\u001b[0;34m.\u001b[0m\u001b[0mrequest\u001b[0m\u001b[0;34m(\u001b[0m\u001b[0mmethod\u001b[0m\u001b[0;34m=\u001b[0m\u001b[0mmethod\u001b[0m\u001b[0;34m,\u001b[0m \u001b[0murl\u001b[0m\u001b[0;34m=\u001b[0m\u001b[0murl\u001b[0m\u001b[0;34m,\u001b[0m \u001b[0;34m**\u001b[0m\u001b[0mkwargs\u001b[0m\u001b[0;34m)\u001b[0m\u001b[0;34m\u001b[0m\u001b[0m\n\u001b[0m\u001b[1;32m     59\u001b[0m \u001b[0;34m\u001b[0m\u001b[0m\n\u001b[1;32m     60\u001b[0m \u001b[0;34m\u001b[0m\u001b[0m\n",
      "\u001b[0;32m/Users/wsolomon/anaconda3/lib/python2.7/site-packages/requests/sessions.pyc\u001b[0m in \u001b[0;36mrequest\u001b[0;34m(self, method, url, params, data, headers, cookies, files, auth, timeout, allow_redirects, proxies, hooks, stream, verify, cert, json)\u001b[0m\n\u001b[1;32m    506\u001b[0m         }\n\u001b[1;32m    507\u001b[0m         \u001b[0msend_kwargs\u001b[0m\u001b[0;34m.\u001b[0m\u001b[0mupdate\u001b[0m\u001b[0;34m(\u001b[0m\u001b[0msettings\u001b[0m\u001b[0;34m)\u001b[0m\u001b[0;34m\u001b[0m\u001b[0m\n\u001b[0;32m--> 508\u001b[0;31m         \u001b[0mresp\u001b[0m \u001b[0;34m=\u001b[0m \u001b[0mself\u001b[0m\u001b[0;34m.\u001b[0m\u001b[0msend\u001b[0m\u001b[0;34m(\u001b[0m\u001b[0mprep\u001b[0m\u001b[0;34m,\u001b[0m \u001b[0;34m**\u001b[0m\u001b[0msend_kwargs\u001b[0m\u001b[0;34m)\u001b[0m\u001b[0;34m\u001b[0m\u001b[0m\n\u001b[0m\u001b[1;32m    509\u001b[0m \u001b[0;34m\u001b[0m\u001b[0m\n\u001b[1;32m    510\u001b[0m         \u001b[0;32mreturn\u001b[0m \u001b[0mresp\u001b[0m\u001b[0;34m\u001b[0m\u001b[0m\n",
      "\u001b[0;32m/Users/wsolomon/anaconda3/lib/python2.7/site-packages/requests/sessions.pyc\u001b[0m in \u001b[0;36msend\u001b[0;34m(self, request, **kwargs)\u001b[0m\n\u001b[1;32m    616\u001b[0m \u001b[0;34m\u001b[0m\u001b[0m\n\u001b[1;32m    617\u001b[0m         \u001b[0;31m# Send the request\u001b[0m\u001b[0;34m\u001b[0m\u001b[0;34m\u001b[0m\u001b[0m\n\u001b[0;32m--> 618\u001b[0;31m         \u001b[0mr\u001b[0m \u001b[0;34m=\u001b[0m \u001b[0madapter\u001b[0m\u001b[0;34m.\u001b[0m\u001b[0msend\u001b[0m\u001b[0;34m(\u001b[0m\u001b[0mrequest\u001b[0m\u001b[0;34m,\u001b[0m \u001b[0;34m**\u001b[0m\u001b[0mkwargs\u001b[0m\u001b[0;34m)\u001b[0m\u001b[0;34m\u001b[0m\u001b[0m\n\u001b[0m\u001b[1;32m    619\u001b[0m \u001b[0;34m\u001b[0m\u001b[0m\n\u001b[1;32m    620\u001b[0m         \u001b[0;31m# Total elapsed time of the request (approximately)\u001b[0m\u001b[0;34m\u001b[0m\u001b[0;34m\u001b[0m\u001b[0m\n",
      "\u001b[0;32m/Users/wsolomon/anaconda3/lib/python2.7/site-packages/requests/adapters.pyc\u001b[0m in \u001b[0;36msend\u001b[0;34m(self, request, stream, timeout, verify, cert, proxies)\u001b[0m\n\u001b[1;32m    506\u001b[0m                 \u001b[0;32mraise\u001b[0m \u001b[0mSSLError\u001b[0m\u001b[0;34m(\u001b[0m\u001b[0me\u001b[0m\u001b[0;34m,\u001b[0m \u001b[0mrequest\u001b[0m\u001b[0;34m=\u001b[0m\u001b[0mrequest\u001b[0m\u001b[0;34m)\u001b[0m\u001b[0;34m\u001b[0m\u001b[0m\n\u001b[1;32m    507\u001b[0m \u001b[0;34m\u001b[0m\u001b[0m\n\u001b[0;32m--> 508\u001b[0;31m             \u001b[0;32mraise\u001b[0m \u001b[0mConnectionError\u001b[0m\u001b[0;34m(\u001b[0m\u001b[0me\u001b[0m\u001b[0;34m,\u001b[0m \u001b[0mrequest\u001b[0m\u001b[0;34m=\u001b[0m\u001b[0mrequest\u001b[0m\u001b[0;34m)\u001b[0m\u001b[0;34m\u001b[0m\u001b[0m\n\u001b[0m\u001b[1;32m    509\u001b[0m \u001b[0;34m\u001b[0m\u001b[0m\n\u001b[1;32m    510\u001b[0m         \u001b[0;32mexcept\u001b[0m \u001b[0mClosedPoolError\u001b[0m \u001b[0;32mas\u001b[0m \u001b[0me\u001b[0m\u001b[0;34m:\u001b[0m\u001b[0;34m\u001b[0m\u001b[0m\n",
      "\u001b[0;31mConnectionError\u001b[0m: HTTPSConnectionPool(host='raw.githubusercontent.com', port=443): Max retries exceeded with url: /washingtonpost/data-school-shootings/master/school-shootings-data.csv (Caused by NewConnectionError('<urllib3.connection.VerifiedHTTPSConnection object at 0x11b52ee90>: Failed to establish a new connection: [Errno 8] nodename nor servname provided, or not known',))"
     ]
    }
   ],
   "source": [
    "'''\n",
    "Show 3 Features with a 3-D Plot\n",
    "MPG Data Set is BORING. Let's do something more fun:\n",
    "\n",
    "'https://github.com/washingtonpost/data-school-shootings/\n",
    "https://stackoverflow.com/questions/35371043/use-python-requests-to-download-csv\n",
    "\n",
    "'''\n",
    "import requests #conda install requests\n",
    "import csv\n",
    "import os\n",
    "import pandas as pd\n",
    "import io\n",
    "\n",
    "\n",
    "url = 'https://raw.githubusercontent.com/washingtonpost/data-school-shootings/master/school-shootings-data.csv'\n",
    "data = requests.get(url)\n",
    "'''Lame way:\n",
    "\n",
    "save_fn = os.path.join(os.getcwd(),'data','1.0-waPost-schoolShootings.csv')\n",
    "with open(save_fn, 'w') as f:\n",
    "    writer = csv.writer(f)\n",
    "    reader = csv.reader(data.text.splitlines())\n",
    "\n",
    "    for row in reader:\n",
    "        writer.writerow(row)\n",
    "'''\n",
    "df = pd.read_csv(io.StringIO(data.text))   \n",
    "df.head()"
   ]
  },
  {
   "cell_type": "code",
   "execution_count": 2,
   "metadata": {},
   "outputs": [],
   "source": [
    "import plotly.offline as pyo\n",
    "import plotly.graph_objs as go"
   ]
  },
  {
   "cell_type": "code",
   "execution_count": 3,
   "metadata": {},
   "outputs": [
    {
     "data": {
      "text/plain": [
       "'\\nFYI if you want to see this data for real\\n\\nimport seaborn as sns\\n# Create the default pairplot\\nsns.pairplot(df)\\n'"
      ]
     },
     "execution_count": 3,
     "metadata": {},
     "output_type": "execute_result"
    }
   ],
   "source": [
    "'''\n",
    "FYI if you want to see this data for real\n",
    "\n",
    "import seaborn as sns\n",
    "# Create the default pairplot\n",
    "sns.pairplot(df)\n",
    "'''"
   ]
  },
  {
   "cell_type": "code",
   "execution_count": 4,
   "metadata": {},
   "outputs": [
    {
     "name": "stdout",
     "output_type": "stream",
     "text": [
      "['uid', 'nces_school_id', 'school_name', 'nces_district_id', 'district_name', 'date', 'school_year', 'year', 'time', 'day_of_week', 'city', 'state', 'school_type', 'enrollment', 'killed', 'injured', 'casualties', 'shooting_type', 'age_shooter1', 'gender_shooter1', 'race_ethnicity_shooter1', 'shooter_relationship1', 'shooter_deceased1', 'deceased_notes1', 'age_shooter2', 'gender_shooter2', 'race_ethnicity_shooter2', 'shooter_relationship2', 'shooter_deceased2', 'deceased_notes2', 'white', 'black', 'hispanic', 'asian', 'american_indian_alaska_native', 'hawaiian_native_pacific_islander', 'two_or_more', 'resource_officer', 'weapon', 'weapon_source', 'lat', 'long', 'staffing', 'low_grade', 'high_grade', 'lunch', 'county', 'state_fips', 'county_fips', 'ulocale']\n"
     ]
    },
    {
     "data": {
      "text/html": [
       "<div>\n",
       "<style scoped>\n",
       "    .dataframe tbody tr th:only-of-type {\n",
       "        vertical-align: middle;\n",
       "    }\n",
       "\n",
       "    .dataframe tbody tr th {\n",
       "        vertical-align: top;\n",
       "    }\n",
       "\n",
       "    .dataframe thead th {\n",
       "        text-align: right;\n",
       "    }\n",
       "</style>\n",
       "<table border=\"1\" class=\"dataframe\">\n",
       "  <thead>\n",
       "    <tr style=\"text-align: right;\">\n",
       "      <th></th>\n",
       "      <th>year</th>\n",
       "      <th>time</th>\n",
       "      <th>school_name</th>\n",
       "      <th>day_of_week</th>\n",
       "      <th>state</th>\n",
       "      <th>casualties</th>\n",
       "      <th>race_ethnicity_shooter1</th>\n",
       "      <th>shooter_relationship1</th>\n",
       "      <th>weapon</th>\n",
       "      <th>county_fips</th>\n",
       "    </tr>\n",
       "  </thead>\n",
       "  <tbody>\n",
       "    <tr>\n",
       "      <th>213</th>\n",
       "      <td>2018</td>\n",
       "      <td>12:45 PM</td>\n",
       "      <td>Big Sky High School</td>\n",
       "      <td>Friday</td>\n",
       "      <td>Montana</td>\n",
       "      <td>0</td>\n",
       "      <td>NaN</td>\n",
       "      <td>resource officer</td>\n",
       "      <td>handgun</td>\n",
       "      <td>30063</td>\n",
       "    </tr>\n",
       "    <tr>\n",
       "      <th>214</th>\n",
       "      <td>2018</td>\n",
       "      <td>4:23 PM</td>\n",
       "      <td>Douglass Park Elementary School</td>\n",
       "      <td>Monday</td>\n",
       "      <td>Virginia</td>\n",
       "      <td>1</td>\n",
       "      <td>NaN</td>\n",
       "      <td>NaN</td>\n",
       "      <td>nan</td>\n",
       "      <td>51740</td>\n",
       "    </tr>\n",
       "    <tr>\n",
       "      <th>215</th>\n",
       "      <td>2018</td>\n",
       "      <td>7:55 AM</td>\n",
       "      <td>Great Mills High School</td>\n",
       "      <td>Tuesday</td>\n",
       "      <td>Maryland</td>\n",
       "      <td>2</td>\n",
       "      <td>w</td>\n",
       "      <td>student</td>\n",
       "      <td>handgun</td>\n",
       "      <td>24037</td>\n",
       "    </tr>\n",
       "    <tr>\n",
       "      <th>216</th>\n",
       "      <td>2018</td>\n",
       "      <td>8:39 AM</td>\n",
       "      <td>Forest High School</td>\n",
       "      <td>Friday</td>\n",
       "      <td>Florida</td>\n",
       "      <td>1</td>\n",
       "      <td>NaN</td>\n",
       "      <td>NaN</td>\n",
       "      <td>nan</td>\n",
       "      <td>12083</td>\n",
       "    </tr>\n",
       "    <tr>\n",
       "      <th>217</th>\n",
       "      <td>2018</td>\n",
       "      <td>7:05 AM</td>\n",
       "      <td>Highland High School</td>\n",
       "      <td>Friday</td>\n",
       "      <td>California</td>\n",
       "      <td>1</td>\n",
       "      <td>NaN</td>\n",
       "      <td>student</td>\n",
       "      <td>nan</td>\n",
       "      <td>6037</td>\n",
       "    </tr>\n",
       "  </tbody>\n",
       "</table>\n",
       "</div>"
      ],
      "text/plain": [
       "     year      time                      school_name day_of_week       state  \\\n",
       "213  2018  12:45 PM              Big Sky High School      Friday     Montana   \n",
       "214  2018   4:23 PM  Douglass Park Elementary School      Monday    Virginia   \n",
       "215  2018   7:55 AM          Great Mills High School     Tuesday    Maryland   \n",
       "216  2018   8:39 AM               Forest High School      Friday     Florida   \n",
       "217  2018   7:05 AM             Highland High School      Friday  California   \n",
       "\n",
       "     casualties race_ethnicity_shooter1 shooter_relationship1   weapon  \\\n",
       "213           0                     NaN      resource officer  handgun   \n",
       "214           1                     NaN                   NaN      nan   \n",
       "215           2                       w               student  handgun   \n",
       "216           1                     NaN                   NaN      nan   \n",
       "217           1                     NaN               student      nan   \n",
       "\n",
       "     county_fips  \n",
       "213        30063  \n",
       "214        51740  \n",
       "215        24037  \n",
       "216        12083  \n",
       "217         6037  "
      ]
     },
     "execution_count": 4,
     "metadata": {},
     "output_type": "execute_result"
    }
   ],
   "source": [
    "features = list(df.columns)\n",
    "print(features)\n",
    "cool_looking_features = ['year','time','school_name','day_of_week',\n",
    "                         'state','casualties','race_ethnicity_shooter1',\n",
    "                         'shooter_relationship1','weapon','county_fips']\n",
    "\n",
    "#Convert Time\n",
    "#time = [int(X) for X in df.time.values.tolist()]\n",
    "#print(time)\n",
    "\n",
    "\n",
    "#Extract Last Word from Wespon\n",
    "def extract_last_word(my_str):\n",
    "    word_list = str(my_str).split()\n",
    "    return word_list[-1]\n",
    "\n",
    "df['weapon'] = df.weapon.apply(extract_last_word)\n",
    "df[cool_looking_features].tail()"
   ]
  },
  {
   "cell_type": "code",
   "execution_count": 5,
   "metadata": {},
   "outputs": [
    {
     "data": {
      "text/plain": [
       "'file:///Users/wsolomon/Documents/GitHub/DashTraining/temp-plot.html'"
      ]
     },
     "execution_count": 5,
     "metadata": {},
     "output_type": "execute_result"
    }
   ],
   "source": [
    "'''\n",
    "OK Let's do\n",
    "    x_values = year\n",
    "    y_values = Casualties\n",
    "    Color = race_ethnicity_shooter1\t\n",
    "    text = shooter_relationship1\t\n",
    "    size = day_of_week\n",
    "'''\n",
    "\n",
    "data = [go.Scatter(x=df.weapon,\n",
    "                  y=df.state,\n",
    "                  text=df.shooter_relationship1, \n",
    "                  mode='markers',\n",
    "                  marker=dict(#size=df.casualties, \n",
    "                             color=df.casualties,\n",
    "                             showscale=True))] \n",
    "\n",
    "\n",
    "layout = go.Layout(title='School Shootings; Color = Casualites', hovermode='y',\n",
    "                  xaxis=dict(title='Weapon Type'), yaxis=dict(title='State'))\n",
    "\n",
    "\n",
    "fig = go.Figure(data=data, layout=layout)\n",
    "\n",
    "\n",
    "pyo.plot(fig)"
   ]
  },
  {
   "cell_type": "code",
   "execution_count": 81,
   "metadata": {},
   "outputs": [
    {
     "data": {
      "text/plain": [
       "'file:///Users/wsolomon/Documents/GitHub/DashTraining/temp-plot.html'"
      ]
     },
     "execution_count": 81,
     "metadata": {},
     "output_type": "execute_result"
    }
   ],
   "source": [
    "'''\n",
    "OK Let's do\n",
    "    x_values = year\n",
    "    y_values = Casualties\n",
    "    Color = race_ethnicity_shooter1\t\n",
    "    text = shooter_relationship1\t\n",
    "    size = day_of_week\n",
    "'''\n",
    "\n",
    "data = [go.Scatter(x=df.year,\n",
    "                  y=df.shooting_type,\n",
    "                  text=df.shooter_relationship1, \n",
    "                  mode='markers',\n",
    "                  marker=dict(size=df.casualties*10, \n",
    "                             color=df.casualties,\n",
    "                             showscale=True))] \n",
    "\n",
    "\n",
    "layout = go.Layout(title='School Shootings', hovermode='x',\n",
    "                  xaxis=dict(title='Weapon Type'), yaxis=dict(title='State'))\n",
    "\n",
    "\n",
    "\n",
    "fig = go.Figure(data=data, layout=layout)\n",
    "\n",
    "\n",
    "pyo.plot(fig)"
   ]
  },
  {
   "cell_type": "code",
   "execution_count": null,
   "metadata": {},
   "outputs": [],
   "source": []
  }
 ],
 "metadata": {
  "kernelspec": {
   "display_name": "Python 2",
   "language": "python",
   "name": "python2"
  },
  "language_info": {
   "codemirror_mode": {
    "name": "ipython",
    "version": 2
   },
   "file_extension": ".py",
   "mimetype": "text/x-python",
   "name": "python",
   "nbconvert_exporter": "python",
   "pygments_lexer": "ipython2",
   "version": "2.7.14"
  }
 },
 "nbformat": 4,
 "nbformat_minor": 2
}
